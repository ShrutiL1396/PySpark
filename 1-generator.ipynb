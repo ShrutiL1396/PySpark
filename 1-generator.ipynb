{
 "cells": [
  {
   "cell_type": "code",
   "execution_count": 1,
   "id": "a959423d",
   "metadata": {},
   "outputs": [],
   "source": [
    "import csv \n",
    "import dateutil\n",
    "import statistics\n",
    "import pandas as pd\n",
    "%matplotlib inline\n",
    "import matplotlib.pyplot as plt\n",
    "import seaborn as sns"
   ]
  },
  {
   "cell_type": "code",
   "execution_count": 2,
   "id": "11f7d357",
   "metadata": {},
   "outputs": [],
   "source": [
    "#def generator to iterate the data set only once -> SUbscriber\n",
    "def citibike2gen(filename):\n",
    "    with open(\"citibike.csv\",\"r\") as fi:\n",
    "        reader = csv.DictReader(fi)\n",
    "        for row in reader:\n",
    "            if row[\"usertype\"] == 'Subscriber':\n",
    "                birthyear = row[\"birth_year\"]\n",
    "                if birthyear != \"\":\n",
    "                    age = 2015 - int(birthyear)\n",
    "                    yield age\n",
    "\n",
    "count = {}\n",
    "total = 0\n",
    "for age in citibike2gen('citibike.csv'):\n",
    "    count[age] = count.get(age,0)+1  "
   ]
  },
  {
   "cell_type": "code",
   "execution_count": 3,
   "id": "aa52f7cc",
   "metadata": {},
   "outputs": [
    {
     "data": {
      "text/plain": [
       "{37: 1377,\n",
       " 22: 470,\n",
       " 46: 1133,\n",
       " 30: 1673,\n",
       " 58: 449,\n",
       " 36: 1279,\n",
       " 32: 1793,\n",
       " 60: 413,\n",
       " 33: 1455,\n",
       " 27: 1358,\n",
       " 24: 922,\n",
       " 25: 1361,\n",
       " 38: 1122,\n",
       " 47: 1010,\n",
       " 28: 1730,\n",
       " 35: 1509,\n",
       " 55: 771,\n",
       " 29: 1568,\n",
       " 34: 1499,\n",
       " 40: 1071,\n",
       " 42: 1022,\n",
       " 44: 1162,\n",
       " 31: 1714,\n",
       " 20: 256,\n",
       " 21: 392,\n",
       " 49: 863,\n",
       " 43: 1081,\n",
       " 51: 891,\n",
       " 61: 417,\n",
       " 23: 493,\n",
       " 26: 1322,\n",
       " 45: 1347,\n",
       " 54: 618,\n",
       " 41: 1158,\n",
       " 39: 1168,\n",
       " 56: 687,\n",
       " 50: 947,\n",
       " 57: 783,\n",
       " 48: 999,\n",
       " 52: 970,\n",
       " 66: 134,\n",
       " 63: 247,\n",
       " 70: 28,\n",
       " 67: 149,\n",
       " 18: 94,\n",
       " 19: 124,\n",
       " 53: 899,\n",
       " 65: 150,\n",
       " 71: 59,\n",
       " 62: 346,\n",
       " 59: 488,\n",
       " 64: 229,\n",
       " 74: 39,\n",
       " 77: 24,\n",
       " 81: 8,\n",
       " 68: 74,\n",
       " 73: 61,\n",
       " 75: 21,\n",
       " 72: 18,\n",
       " 69: 93,\n",
       " 17: 59,\n",
       " 115: 22,\n",
       " 16: 17,\n",
       " 80: 9,\n",
       " 76: 4,\n",
       " 105: 2,\n",
       " 89: 1,\n",
       " 86: 1,\n",
       " 114: 1,\n",
       " 93: 4}"
      ]
     },
     "execution_count": 3,
     "metadata": {},
     "output_type": "execute_result"
    }
   ],
   "source": [
    "count"
   ]
  },
  {
   "cell_type": "code",
   "execution_count": 4,
   "id": "2cbf455b",
   "metadata": {},
   "outputs": [
    {
     "data": {
      "text/plain": [
       "{16: 17,\n",
       " 17: 59,\n",
       " 18: 94,\n",
       " 19: 124,\n",
       " 20: 256,\n",
       " 21: 392,\n",
       " 22: 470,\n",
       " 23: 493,\n",
       " 24: 922,\n",
       " 25: 1361,\n",
       " 26: 1322,\n",
       " 27: 1358,\n",
       " 28: 1730,\n",
       " 29: 1568,\n",
       " 30: 1673,\n",
       " 31: 1714,\n",
       " 32: 1793,\n",
       " 33: 1455,\n",
       " 34: 1499,\n",
       " 35: 1509,\n",
       " 36: 1279,\n",
       " 37: 1377,\n",
       " 38: 1122,\n",
       " 39: 1168,\n",
       " 40: 1071,\n",
       " 41: 1158,\n",
       " 42: 1022,\n",
       " 43: 1081,\n",
       " 44: 1162,\n",
       " 45: 1347,\n",
       " 46: 1133,\n",
       " 47: 1010,\n",
       " 48: 999,\n",
       " 49: 863,\n",
       " 50: 947,\n",
       " 51: 891,\n",
       " 52: 970,\n",
       " 53: 899,\n",
       " 54: 618,\n",
       " 55: 771,\n",
       " 56: 687,\n",
       " 57: 783,\n",
       " 58: 449,\n",
       " 59: 488,\n",
       " 60: 413,\n",
       " 61: 417,\n",
       " 62: 346,\n",
       " 63: 247,\n",
       " 64: 229,\n",
       " 65: 150,\n",
       " 66: 134,\n",
       " 67: 149,\n",
       " 68: 74,\n",
       " 69: 93,\n",
       " 70: 28,\n",
       " 71: 59,\n",
       " 72: 18,\n",
       " 73: 61,\n",
       " 74: 39,\n",
       " 75: 21,\n",
       " 76: 4,\n",
       " 77: 24,\n",
       " 80: 9,\n",
       " 81: 8,\n",
       " 86: 1,\n",
       " 89: 1,\n",
       " 93: 4,\n",
       " 105: 2,\n",
       " 114: 1,\n",
       " 115: 22}"
      ]
     },
     "execution_count": 4,
     "metadata": {},
     "output_type": "execute_result"
    }
   ],
   "source": [
    "age_dict = {k: v for k, v in sorted(count.items(), key=lambda item: item[0])}\n",
    "age_dict"
   ]
  },
  {
   "cell_type": "markdown",
   "id": "07a8aeb8",
   "metadata": {},
   "source": [
    "## Median age calculation"
   ]
  },
  {
   "cell_type": "code",
   "execution_count": 5,
   "id": "d02b1f3c",
   "metadata": {},
   "outputs": [
    {
     "data": {
      "text/plain": [
       "45658"
      ]
     },
     "execution_count": 5,
     "metadata": {},
     "output_type": "execute_result"
    }
   ],
   "source": [
    "total = sum(age_dict.values())\n",
    "total"
   ]
  },
  {
   "cell_type": "code",
   "execution_count": 6,
   "id": "9381a6b9",
   "metadata": {},
   "outputs": [],
   "source": [
    "median_age = 0\n",
    "age_agg = 0\n",
    "\n",
    "for age_val,freq in age_dict.items():\n",
    "    age_agg = age_agg + freq\n",
    "    if age_agg * 2 > total:\n",
    "        median_age = age_val\n",
    "        break"
   ]
  },
  {
   "cell_type": "code",
   "execution_count": 7,
   "id": "393c2ff7",
   "metadata": {},
   "outputs": [
    {
     "name": "stdout",
     "output_type": "stream",
     "text": [
      "The median age of the subscriber customers is:- 38\n"
     ]
    }
   ],
   "source": [
    "print(\"The median age of the subscriber customers is:-\",median_age)"
   ]
  },
  {
   "cell_type": "code",
   "execution_count": 8,
   "id": "64f16809",
   "metadata": {},
   "outputs": [
    {
     "data": {
      "text/html": [
       "<div>\n",
       "<style scoped>\n",
       "    .dataframe tbody tr th:only-of-type {\n",
       "        vertical-align: middle;\n",
       "    }\n",
       "\n",
       "    .dataframe tbody tr th {\n",
       "        vertical-align: top;\n",
       "    }\n",
       "\n",
       "    .dataframe thead th {\n",
       "        text-align: right;\n",
       "    }\n",
       "</style>\n",
       "<table border=\"1\" class=\"dataframe\">\n",
       "  <thead>\n",
       "    <tr style=\"text-align: right;\">\n",
       "      <th></th>\n",
       "      <th>Age</th>\n",
       "      <th>Frequency</th>\n",
       "    </tr>\n",
       "  </thead>\n",
       "  <tbody>\n",
       "    <tr>\n",
       "      <th>0</th>\n",
       "      <td>16</td>\n",
       "      <td>17</td>\n",
       "    </tr>\n",
       "    <tr>\n",
       "      <th>1</th>\n",
       "      <td>17</td>\n",
       "      <td>59</td>\n",
       "    </tr>\n",
       "    <tr>\n",
       "      <th>2</th>\n",
       "      <td>18</td>\n",
       "      <td>94</td>\n",
       "    </tr>\n",
       "    <tr>\n",
       "      <th>3</th>\n",
       "      <td>19</td>\n",
       "      <td>124</td>\n",
       "    </tr>\n",
       "    <tr>\n",
       "      <th>4</th>\n",
       "      <td>20</td>\n",
       "      <td>256</td>\n",
       "    </tr>\n",
       "    <tr>\n",
       "      <th>...</th>\n",
       "      <td>...</td>\n",
       "      <td>...</td>\n",
       "    </tr>\n",
       "    <tr>\n",
       "      <th>65</th>\n",
       "      <td>89</td>\n",
       "      <td>1</td>\n",
       "    </tr>\n",
       "    <tr>\n",
       "      <th>66</th>\n",
       "      <td>93</td>\n",
       "      <td>4</td>\n",
       "    </tr>\n",
       "    <tr>\n",
       "      <th>67</th>\n",
       "      <td>105</td>\n",
       "      <td>2</td>\n",
       "    </tr>\n",
       "    <tr>\n",
       "      <th>68</th>\n",
       "      <td>114</td>\n",
       "      <td>1</td>\n",
       "    </tr>\n",
       "    <tr>\n",
       "      <th>69</th>\n",
       "      <td>115</td>\n",
       "      <td>22</td>\n",
       "    </tr>\n",
       "  </tbody>\n",
       "</table>\n",
       "<p>70 rows × 2 columns</p>\n",
       "</div>"
      ],
      "text/plain": [
       "    Age  Frequency\n",
       "0    16         17\n",
       "1    17         59\n",
       "2    18         94\n",
       "3    19        124\n",
       "4    20        256\n",
       "..  ...        ...\n",
       "65   89          1\n",
       "66   93          4\n",
       "67  105          2\n",
       "68  114          1\n",
       "69  115         22\n",
       "\n",
       "[70 rows x 2 columns]"
      ]
     },
     "execution_count": 8,
     "metadata": {},
     "output_type": "execute_result"
    }
   ],
   "source": [
    "age_df = pd.DataFrame(age_dict.items(),columns=['Age','Frequency'])\n",
    "age_df"
   ]
  },
  {
   "cell_type": "code",
   "execution_count": 9,
   "id": "4e44ee57",
   "metadata": {},
   "outputs": [
    {
     "data": {
      "text/plain": [
       "<matplotlib.lines.Line2D at 0x27fd5440d60>"
      ]
     },
     "execution_count": 9,
     "metadata": {},
     "output_type": "execute_result"
    },
    {
     "data": {
      "image/png": "[encoded data removed]",
      "text/plain": [
       "<Figure size 1440x864 with 1 Axes>"
      ]
     },
     "metadata": {
      "needs_background": "light"
     },
     "output_type": "display_data"
    }
   ],
   "source": [
    "plt.figure(figsize=(20,12))\n",
    "plt.xlabel('Age',fontsize=20)\n",
    "plt.ylabel('Frequency',fontsize=20)\n",
    "ax = sns.barplot(x = \"Age\",y=\"Frequency\",data = age_df, ci = None)\n",
    "ax.axvline(x=22,\n",
    "            color='blue',\n",
    "            ls='--', \n",
    "            lw=2.5)"
   ]
  },
  {
   "cell_type": "code",
   "execution_count": 10,
   "id": "12afb8b8",
   "metadata": {},
   "outputs": [
    {
     "data": {
      "text/plain": [
       "38"
      ]
     },
     "execution_count": 10,
     "metadata": {},
     "output_type": "execute_result"
    }
   ],
   "source": [
    "median_age"
   ]
  }
 ],
 "metadata": {
  "kernelspec": {
   "display_name": "Python 3",
   "language": "python",
   "name": "python3"
  },
  "language_info": {
   "codemirror_mode": {
    "name": "ipython",
    "version": 3
   },
   "file_extension": ".py",
   "mimetype": "text/x-python",
   "name": "python",
   "nbconvert_exporter": "python",
   "pygments_lexer": "ipython3",
   "version": "3.8.8"
  }
 },
 "nbformat": 4,
 "nbformat_minor": 5
}
