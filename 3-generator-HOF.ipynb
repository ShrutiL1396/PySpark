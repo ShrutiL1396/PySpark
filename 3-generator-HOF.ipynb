{
 "cells": [
  {
   "cell_type": "code",
   "execution_count": 1,
   "id": "6b6bfda6",
   "metadata": {},
   "outputs": [],
   "source": [
    "import dateutil\n",
    "import csv\n",
    "import pandas as pd"
   ]
  },
  {
   "cell_type": "code",
   "execution_count": 2,
   "id": "0a953f48",
   "metadata": {},
   "outputs": [],
   "source": [
    "#creating a dictionary to store the start-time and the birth_year of the first rider of that day\n",
    "first_rider = {}\n",
    "with open(\"citibike.csv\",\"r\") as fi:\n",
    "    reader = csv.DictReader(fi)\n",
    "    day = \"\"\n",
    "    for row in reader:\n",
    "        starttime = dateutil.parser.parse(row[\"starttime\"])\n",
    "        # ensuring we consider the first rider for the entire day \n",
    "        if day != starttime.weekday():\n",
    "            day = starttime.weekday()\n",
    "            first_rider[row[\"starttime\"]] = row[\"birth_year\"]"
   ]
  },
  {
   "cell_type": "code",
   "execution_count": 3,
   "id": "af9fb424",
   "metadata": {},
   "outputs": [
    {
     "data": {
      "text/plain": [
       "{'2015-02-01 00:00:00+00': '1978',\n",
       " '2015-02-02 00:02:00+00': '1992',\n",
       " '2015-02-03 00:00:00+00': '1982',\n",
       " '2015-02-04 00:00:00+00': '1969',\n",
       " '2015-02-05 00:00:00+00': '1971',\n",
       " '2015-02-06 00:01:00+00': '1989',\n",
       " '2015-02-07 00:00:00+00': '1963'}"
      ]
     },
     "execution_count": 3,
     "metadata": {},
     "output_type": "execute_result"
    }
   ],
   "source": [
    "first_rider"
   ]
  },
  {
   "cell_type": "code",
   "execution_count": 4,
   "id": "4cade016",
   "metadata": {},
   "outputs": [
    {
     "data": {
      "text/html": [
       "<div>\n",
       "<style scoped>\n",
       "    .dataframe tbody tr th:only-of-type {\n",
       "        vertical-align: middle;\n",
       "    }\n",
       "\n",
       "    .dataframe tbody tr th {\n",
       "        vertical-align: top;\n",
       "    }\n",
       "\n",
       "    .dataframe thead th {\n",
       "        text-align: right;\n",
       "    }\n",
       "</style>\n",
       "<table border=\"1\" class=\"dataframe\">\n",
       "  <thead>\n",
       "    <tr style=\"text-align: right;\">\n",
       "      <th></th>\n",
       "      <th>Start_Time</th>\n",
       "      <th>First_Rider_Birth_Year</th>\n",
       "    </tr>\n",
       "  </thead>\n",
       "  <tbody>\n",
       "    <tr>\n",
       "      <th>0</th>\n",
       "      <td>2015-02-01 00:00:00+00</td>\n",
       "      <td>1978</td>\n",
       "    </tr>\n",
       "    <tr>\n",
       "      <th>1</th>\n",
       "      <td>2015-02-02 00:02:00+00</td>\n",
       "      <td>1992</td>\n",
       "    </tr>\n",
       "    <tr>\n",
       "      <th>2</th>\n",
       "      <td>2015-02-03 00:00:00+00</td>\n",
       "      <td>1982</td>\n",
       "    </tr>\n",
       "    <tr>\n",
       "      <th>3</th>\n",
       "      <td>2015-02-04 00:00:00+00</td>\n",
       "      <td>1969</td>\n",
       "    </tr>\n",
       "    <tr>\n",
       "      <th>4</th>\n",
       "      <td>2015-02-05 00:00:00+00</td>\n",
       "      <td>1971</td>\n",
       "    </tr>\n",
       "    <tr>\n",
       "      <th>5</th>\n",
       "      <td>2015-02-06 00:01:00+00</td>\n",
       "      <td>1989</td>\n",
       "    </tr>\n",
       "    <tr>\n",
       "      <th>6</th>\n",
       "      <td>2015-02-07 00:00:00+00</td>\n",
       "      <td>1963</td>\n",
       "    </tr>\n",
       "  </tbody>\n",
       "</table>\n",
       "</div>"
      ],
      "text/plain": [
       "               Start_Time First_Rider_Birth_Year\n",
       "0  2015-02-01 00:00:00+00                   1978\n",
       "1  2015-02-02 00:02:00+00                   1992\n",
       "2  2015-02-03 00:00:00+00                   1982\n",
       "3  2015-02-04 00:00:00+00                   1969\n",
       "4  2015-02-05 00:00:00+00                   1971\n",
       "5  2015-02-06 00:01:00+00                   1989\n",
       "6  2015-02-07 00:00:00+00                   1963"
      ]
     },
     "execution_count": 4,
     "metadata": {},
     "output_type": "execute_result"
    }
   ],
   "source": [
    "data = {\"Start_Time\": first_rider.keys(),\"First_Rider_Birth_Year\":first_rider.values()}\n",
    "df = pd.DataFrame.from_dict(data,orient=\"index\")\n",
    "df=df.transpose()\n",
    "df"
   ]
  }
 ],
 "metadata": {
  "kernelspec": {
   "display_name": "Python 3",
   "language": "python",
   "name": "python3"
  },
  "language_info": {
   "codemirror_mode": {
    "name": "ipython",
    "version": 3
   },
   "file_extension": ".py",
   "mimetype": "text/x-python",
   "name": "python",
   "nbconvert_exporter": "python",
   "pygments_lexer": "ipython3",
   "version": "3.8.8"
  }
 },
 "nbformat": 4,
 "nbformat_minor": 5
}
